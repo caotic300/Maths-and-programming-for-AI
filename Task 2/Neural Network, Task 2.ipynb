{
 "cells": [
  {
   "cell_type": "markdown",
   "metadata": {},
   "source": [
    "# Neural Network, Task 2"
   ]
  },
  {
   "cell_type": "markdown",
   "metadata": {},
   "source": [
    "### Importing the dataset\n",
    "\n"
   ]
  },
  {
   "cell_type": "code",
   "execution_count": 3,
   "metadata": {},
   "outputs": [],
   "source": [
    "import numpy as np\n",
    "from sklearn.datasets import fetch_openml\n",
    "import matplotlib.pyplot as plt\n"
   ]
  },
  {
   "cell_type": "code",
   "execution_count": 4,
   "metadata": {},
   "outputs": [
    {
     "name": "stdout",
     "output_type": "stream",
     "text": [
      "(70000, 784)\n",
      "(70000,)\n",
      "X_train:  (60000, 784)\n",
      "y_train:  (60000, 10)\n",
      "X_test:  (10000, 784)\n",
      "y_test:  (10000, 10)\n"
     ]
    }
   ],
   "source": [
    "mnist = fetch_openml('mnist_784')\n",
    "X, y = mnist[\"data\"], mnist[\"target\"]\n",
    "\n",
    "X = X/255\n",
    "X = X.astype('float32')\n",
    "\n",
    "print(X.shape)\n",
    "print(y.shape)\n",
    "\n",
    "def one_hot(y, cat, dtype=np.float32):\n",
    "    return np.array(y[:, None] == np.arange(cat), dtype)\n",
    "y_new = one_hot(y.astype('int32'), 10)\n",
    "\n",
    "# Splitting Dataset\n",
    "split = 60000\n",
    "\n",
    "X_train = X[:split]\n",
    "y_train = y_new[:split]\n",
    "\n",
    "X_test = X[split:]\n",
    "y_test = y_new[split:]\n",
    "\n",
    "print(\"X_train: \", X_train.shape)\n",
    "print(\"y_train: \", y_train.shape)\n",
    "\n",
    "print(\"X_test: \", X_test.shape)\n",
    "print(\"y_test: \", y_test.shape)"
   ]
  },
  {
   "cell_type": "markdown",
   "metadata": {},
   "source": [
    "### Making the Neural Network class.\n",
    "\n",
    "We made the neural network class. We have only one class, we tried different methods of refactoring the idea was to:\n",
    "\n",
    "- make different classes for different optimizers\n",
    "- make different classed for different loss functions \n",
    "- combine the functionality on the Task2 class and pass them to the other classes to provide the functionality required. \n",
    "\n",
    "However, we did try those methods, but when we tried to refactore it we found that the code was not working properly, and we did not have enough time to implement it. Therefore we decided to leave what was working. \n",
    "\n",
    "#### Reflexion\n",
    "\n",
    "Making the classes we wanted to do takes a lot of thinking about the design of the architecture, such as what to use as parameters, how to link different classes between each other and how to call the different methods and what design patterns to use.\n",
    "\n"
   ]
  },
  {
   "cell_type": "code",
   "execution_count": 7,
   "metadata": {},
   "outputs": [],
   "source": [
    "class Task2(object):\n",
    "    \n",
    "    def __init__(self, layers, act_func, epochs, learn_r):\n",
    "        self.layers = layers        # List of nodes in each layer\n",
    "        self.epochs = epochs        # Number of Epochs \n",
    "        self.learn_r = learn_r      # Learning rate applied to optimizer\n",
    "        \n",
    "        self.Errors = []            # List to keep track of errors calculated\n",
    "        self.Epochs = []            # List to keep track of iterations \n",
    "        self.Loss = []              # List to keep track of loss throughout training\n",
    "        self.Cost = []              # List to keep track of loss throughout training\n",
    "        \n",
    "        self.func  = act_func                                     # Activation function chosen \n",
    "        self.funcs = {'sigmoid': self.sigmoid, 'relu': self.relu} # Dictionary to correpond to chosen activation funciton\n",
    "        \n",
    "        # dictionary to keep track of weights\n",
    "        self.network = self.instantiate()   \n",
    "\n",
    "# Sigmoid function to be applied to input/hidden layers \n",
    "# Output 1 as x -> +∞ | 0 as x -> -∞\n",
    "    def sigmoid(self, z, isDeriv):\n",
    "        if isDeriv: # When backpropagating\n",
    "            return (np.exp(-z)) / ((np.exp(-z) + 1 )**2)\n",
    "        \n",
    "        return 1 / (1 + np.exp(-z)) # Forward feed\n",
    "    \n",
    "# Relu function can also be applied to input/hidden layers\n",
    "    def relu(self, z, isDeriv):\n",
    "        t = np.ones((len(z))) \n",
    "        if isDeriv: \n",
    "            for i in range(len(z)):\n",
    "                if z[i] >= 0:\n",
    "                    t[i] = 1\n",
    "                else:\n",
    "                    t[i] = 0\n",
    "            return t\n",
    "        \n",
    "        r = np.maximum(0, z)\n",
    "        return r\n",
    "    \n",
    "# Softmax function to be applied to the output layer \n",
    "    def softmax(self, z, isDeriv):\n",
    "        expo = np.exp(z - z.max())\n",
    "        \n",
    "        if isDeriv: # When backpropagating\n",
    "            return expo / np.sum(expo, axis=0) * (1 - expo / np.sum(expo, axis=0))\n",
    "        \n",
    "        return expo / np.sum(expo, axis = 0) # Forward feed\n",
    "    \n",
    "    def cross_entropy(self, ytrain, output):\n",
    "        L_sum = np.sum(np.multiply(ytrain, np.log(output)))\n",
    "        L = -(1/ytrain.shape[0]) * L_sum        # L = -(1/m) . sum (y . log y^)\n",
    "        return L\n",
    "    \n",
    "    def instantiate(self):\n",
    "        \n",
    "        # Input Layer, Hidden Layer, Hidden Layer, Output Layer\n",
    "        inputLayer = self.layers[0]\n",
    "        hiddenLayer = self.layers[1]\n",
    "        hiddenLayer2 = self.layers[2]\n",
    "        outputLayer = self.layers[3]\n",
    "        \n",
    "        network = {\n",
    "                    'W1' : np.random.randn(hiddenLayer, inputLayer) * np.sqrt(1.0/hiddenLayer),     # Weight for Input -> Hidden 1\n",
    "                    'W2' : np.random.randn(hiddenLayer2, hiddenLayer) * np.sqrt(1.0/hiddenLayer2),  # Weight for hidden 1 -> Hidden 2\n",
    "                    'W3' : np.random.randn(outputLayer, hiddenLayer2) * np.sqrt(1.0/outputLayer)   # Weight for Hidden 2 -> Output\n",
    "                    \n",
    "                    #,'b1' : np.zeros((hiddenLayer, 1)) * np.sqrt(1.0/inputLayer),                    # Bias used in W1\n",
    "                    #'b2' : np.zeros((hiddenLayer2, 1)) * np.sqrt(1.0/hiddenLayer),                  # Bias used in W2\n",
    "                    #'b3' : np.zeros((outputLayer, 1)) * np.sqrt(1.0/hiddenLayer2)                   # Bias used in W3\n",
    "                    \n",
    "                  }\n",
    "\n",
    "        return network\n",
    "\n",
    "    def forward(self, X_train):\n",
    "        \n",
    "        network = self.network\n",
    "        f = self.func   # Activation function chosen\n",
    "        fs = self.funcs # Dictionary of activation functions\n",
    "        \n",
    "        # Input Layer\n",
    "        network['A0'] = X_train\n",
    "        \n",
    "        # Input -> Hidden\n",
    "        network['Z1'] = np.dot(network[\"W1\"], network['A0']) #+ network['b1']\n",
    "        network['A1'] = fs[f](network['Z1'], isDeriv = False)\n",
    "        \n",
    "        # Hidden Layer 1 -> Hidden Layer 2\n",
    "        network['Z2'] = np.dot(network[\"W2\"], network['A1']) #+ network['b2']\n",
    "        network['A2'] = fs[f](network['Z2'], isDeriv = False)\n",
    "\n",
    "        # Hidden Layer 2 -> Output\n",
    "        network['Z3'] = np.dot(network[\"W3\"], network['A2']) #+ network['b3']\n",
    "        network['A3'] = self.softmax(network['Z3'], isDeriv = False)\n",
    "\n",
    "        return network['A3']    # Return output\n",
    "\n",
    "    def backward(self, y_train, output):\n",
    "        \n",
    "        update = {}                 # Dictionary to hold changes to weights \n",
    "        network = self.network        \n",
    "        Errors = self.Errors\n",
    "        Loss = self.Loss        \n",
    "        f = self.func                \n",
    "        fs = self.funcs             \n",
    "        \n",
    "        # Error: subtract target array from the output of a forward propagation\n",
    "        loss = self.cross_entropy(y_train, output)\n",
    "        Loss.append(loss)\n",
    "        \n",
    "        # Update from Softmax Output \n",
    "        error = 2 * (output - y_train) / output.shape[0] * self.softmax(network['Z3']\n",
    "                                                                    , isDeriv = True)\n",
    "        Errors.append(error)\n",
    "        update['W3'] = np.outer(error, network['A2'])\n",
    "        \n",
    "        # Update Hidden Layer 2                  ↓ Call activation function from dictionary\n",
    "        error = np.dot(network['W3'].T, error) * fs[f](network['Z2']\n",
    "                                                   , isDeriv = True)\n",
    "        Errors.append(error)\n",
    "        update['W2'] = np.outer(error, network['A1'])\n",
    "\n",
    "        # Update from Hidden Layer 1             ↓ Call activation function from dictionary\n",
    "        error = np.dot(network['W2'].T, error) * fs[f](network['Z1'], isDeriv = True)\n",
    "        Errors.append(error)       \n",
    "        update['W1'] = np.outer(error, network['A0'])\n",
    "\n",
    "        return update        # Return updated dictionary \n",
    "\n",
    "    def optimizer(self, gradient):\n",
    "        # Stochastic Gradient Descent\n",
    "        for theta, grad in gradient.items():\n",
    "            self.network[theta] -= self.learn_r * grad\n",
    "\n",
    "    def accuracy(self, X_test, y_test):\n",
    "        predict = []\n",
    "        \n",
    "        for x, y in zip(X_test, y_test):\n",
    "            output = self.forward(x)                # Forward feed\n",
    "            pred = np.argmax(output)                # Return index of max value in output\n",
    "            predict.append(pred == np.argmax(y))    # Add highest predicted value to list\n",
    "            mean = np.mean(predict)                 # Calculate mean of values in list\n",
    "        \n",
    "        return mean        # Return overall accuracy \n",
    "\n",
    "    def train_network(self, X_train, y_train, X_test, y_test):\n",
    "        \n",
    "        for i in range(self.epochs):                \n",
    "            for x,y in zip(X_train, y_train):\n",
    "                output = self.forward(x)\n",
    "                gradient = self.backward(y, output)\n",
    "                self.optimizer(gradient)\n",
    "                self.Epochs.append(i)\n",
    "            \n",
    "            accuracy = self.accuracy(X_test, y_test)\n",
    "            print(\"Epoch: \", i + 1, \" - Accuracy: \", accuracy * 100, \"%\")\n"
   ]
  },
  {
   "cell_type": "markdown",
   "metadata": {},
   "source": [
    "### Trainig and Testing the Neural Network.\n",
    "\n",
    "We used the train_network method to train the network."
   ]
  },
  {
   "cell_type": "code",
   "execution_count": 6,
   "metadata": {},
   "outputs": [
    {
     "name": "stdout",
     "output_type": "stream",
     "text": [
      "Epoch:  1  - Accuracy:  69.37 %\n",
      "Epoch:  2  - Accuracy:  79.64 %\n",
      "Epoch:  3  - Accuracy:  81.64 %\n",
      "Epoch:  4  - Accuracy:  82.44 %\n",
      "Epoch:  5  - Accuracy:  88.29 %\n",
      "Epoch:  6  - Accuracy:  87.39 %\n",
      "Epoch:  7  - Accuracy:  86.78 %\n",
      "Epoch:  8  - Accuracy:  86.86 %\n",
      "Epoch:  9  - Accuracy:  87.16000000000001 %\n",
      "Epoch:  10  - Accuracy:  86.79 %\n"
     ]
    }
   ],
   "source": [
    "NN = Task2(  layers = [784, 256, 128, 10], act_func = 'sigmoid',\n",
    "             epochs = 10, learn_r = 0.01)\n",
    "\n",
    "NN.train_network(X_train, y_train, X_test, y_test)"
   ]
  },
  {
   "cell_type": "markdown",
   "metadata": {},
   "source": [
    "### Plotting the results\n",
    "\n",
    "WE are going to plot how the loss function changes as the number of Epochs is increased."
   ]
  },
  {
   "cell_type": "code",
   "execution_count": 8,
   "metadata": {},
   "outputs": [
    {
     "data": {
      "text/plain": [
       "Text(0, 0.5, 'Loss')"
      ]
     },
     "execution_count": 8,
     "metadata": {},
     "output_type": "execute_result"
    },
    {
     "data": {
      "image/png": "[encoded data removed]",
      "text/plain": [
       "<Figure size 432x288 with 1 Axes>"
      ]
     },
     "metadata": {
      "needs_background": "light"
     },
     "output_type": "display_data"
    }
   ],
   "source": [
    "########################################\n",
    "#               PLOTTING               #\n",
    "########################################\n",
    "\n",
    "# Calculated Loss over every iteration\n",
    "losses = NN.Loss\n",
    "#print(losses)\n",
    "\n",
    "plt.plot(losses, 'r-')\n",
    "plt.xlabel('Epochs', fontsize=15)\n",
    "plt.ylabel('Loss', fontsize=15)\n",
    "\n"
   ]
  },
  {
   "cell_type": "code",
   "execution_count": null,
   "metadata": {},
   "outputs": [],
   "source": []
  }
 ],
 "metadata": {
  "kernelspec": {
   "display_name": "Python 3",
   "language": "python",
   "name": "python3"
  },
  "language_info": {
   "codemirror_mode": {
    "name": "ipython",
    "version": 3
   },
   "file_extension": ".py",
   "mimetype": "text/x-python",
   "name": "python",
   "nbconvert_exporter": "python",
   "pygments_lexer": "ipython3",
   "version": "3.8.3"
  }
 },
 "nbformat": 4,
 "nbformat_minor": 4
}
