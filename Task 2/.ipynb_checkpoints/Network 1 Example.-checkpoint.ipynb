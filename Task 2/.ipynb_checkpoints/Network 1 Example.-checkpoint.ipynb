{
 "cells": [
  {
   "cell_type": "code",
   "execution_count": null,
   "metadata": {},
   "outputs": [],
   "source": [
    "import np as numpy\n"
   ]
  },
  {
   "cell_type": "code",
   "execution_count": 2,
   "metadata": {},
   "outputs": [],
   "source": [
    "class Operation(object):\n",
    "    \n",
    "    def __init__(self):\n",
    "        pass\n",
    "\n",
    "    def forward(self, inputs):\n",
    "        \n",
    "        self.inputs = inputs\n",
    "        \n",
    "        self.input_gradient = self.get_input_gradient\n",
    "        self.output = self.output()\n",
    "        \n",
    "        return self.output\n",
    "    \n",
    "\n",
    "    def backward(self, gradient_output):\n",
    "        \n",
    "        self.gradient_input = self.gradient_input(gradient_output)\n",
    "\n",
    "        return gradient_input\n",
    "    \n",
    "    def output(self):\n",
    "       \n",
    "        raise NotImplementedError()\n",
    "        \n",
    "    def gradient_input(self, gradient_output):\n",
    "        \n",
    "        raise NotImplementedError()\n",
    "        \n"
   ]
  },
  {
   "cell_type": "code",
   "execution_count": null,
   "metadata": {},
   "outputs": [],
   "source": [
    "class ParamOperation(Operation):\n",
    "    \n",
    "    def __init__(self, parameters)\n",
    "        super().__init__()\n",
    "        self.parameters = parameters\n",
    "        \n",
    "    def backward(self, gradient_output):\n",
    "        self.input_grad = self._input_grad(output_grad)\n",
    "        self.param_grad\n",
    "    \n",
    "    def calculate_parameters_grad(self, gradient_output):\n",
    "        \n",
    "    mult_weight = np.dot(np.transpose(self.input_, (1, 0)), gradient_output)\n",
    "        "
   ]
  },
  {
   "cell_type": "code",
   "execution_count": null,
   "metadata": {},
   "outputs": [],
   "source": []
  },
  {
   "cell_type": "code",
   "execution_count": null,
   "metadata": {},
   "outputs": [],
   "source": []
  }
 ],
 "metadata": {
  "kernelspec": {
   "display_name": "Python 3",
   "language": "python",
   "name": "python3"
  },
  "language_info": {
   "codemirror_mode": {
    "name": "ipython",
    "version": 3
   },
   "file_extension": ".py",
   "mimetype": "text/x-python",
   "name": "python",
   "nbconvert_exporter": "python",
   "pygments_lexer": "ipython3",
   "version": "3.8.3"
  }
 },
 "nbformat": 4,
 "nbformat_minor": 4
}
