{
 "cells": [
  {
   "cell_type": "markdown",
   "metadata": {},
   "source": [
    "# Implementing Neural Network in Pytorch, Task 3"
   ]
  },
  {
   "cell_type": "code",
   "execution_count": 2,
   "metadata": {},
   "outputs": [],
   "source": [
    "import torch\n",
    "import torch.nn as nn\n",
    "import torchvision\n",
    "import numpy as np\n",
    "from sklearn import datasets\n",
    "import torchvision.transforms as transforms\n",
    "import matplotlib.pyplot as plt\n",
    "from sklearn.preprocessing import StandardScaler\n",
    "from sklearn.model_selection import train_test_split\n",
    "from torch.utils.data import Dataset, DataLoader\n",
    "import math"
   ]
  },
  {
   "cell_type": "markdown",
   "metadata": {},
   "source": [
    "## Fully functional Neural Network"
   ]
  },
  {
   "cell_type": "code",
   "execution_count": 3,
   "metadata": {},
   "outputs": [],
   "source": [
    "class Loss(nn.Module):\n",
    "    \n",
    "    def __init__(self, criterion):\n",
    "        super(Loss, self).__init__()\n",
    "        self.criterion = self.loss_function(criterion)\n",
    "    \n",
    "    def current_loss_function(self):\n",
    "        return self.criterion\n",
    "\n",
    "    def loss_function(self, criterion):\n",
    "        if criterion == 'cross_entropy':\n",
    "            return nn.CrossEntropyLoss()\n",
    "            \n",
    "        elif criterion == 'mse':\n",
    "            return nn.MSELoss()\n",
    "        \n",
    "        elif criterion == 'mae':\n",
    "            return nn.L1Loss()\n",
    "        \n",
    "class Activation(nn.Module):\n",
    "    \n",
    "    def __init__(self, activation_type):\n",
    "        super(Activation, self).__init__()\n",
    "        self.activation_type = self.activation_func(activation_type)\n",
    "     \n",
    "    def activation_func(self, activation_type):\n",
    "        if activation_type == 'relu':\n",
    "            return nn.ReLU()\n",
    "        elif activation_type == 'sigmoid':\n",
    "            return nn.Sigmoid()\n",
    "        elif activation_type == 'tanh':\n",
    "            return nn.Tanh()\n",
    "        elif activation_type == 'leaky_relu':\n",
    "            return nn.LeakyReLU()\n",
    "        elif activation_type == 'softmax':\n",
    "            return nn.Softmax()\n",
    "        \n",
    "\n",
    "    def current_activation_function(self):\n",
    "        return self.activation_type\n",
    "    \n",
    "    \n",
    "class Optimizer(object):\n",
    "    \n",
    "    def __init__(self, model, optimizer_type, learning_rate):\n",
    "        super(Optimizer, self).__init__()\n",
    "        self.learning_rate = learning_rate\n",
    "        self.model_params = model.parameters()\n",
    "        self.optimizer_type = self.optimizer(optimizer_type)\n",
    "    \n",
    "    def current_optimizer(self):\n",
    "        return self.optimizer_type\n",
    "    \n",
    "    def optimizer(self, optimizer_type):\n",
    "        \n",
    "        if optimizer_type == 'Adam':\n",
    "            return torch.optim.Adam(self.model_params, lr=self.learning_rate)\n",
    "            \n",
    "        elif optimizer_type == 'SGD':\n",
    "            return torch.optim.SGD(self.model_params, lr=self.learning_rate)\n",
    "  "
   ]
  },
  {
   "cell_type": "code",
   "execution_count": 4,
   "metadata": {},
   "outputs": [
    {
     "name": "stdout",
     "output_type": "stream",
     "text": [
      "Downloading http://yann.lecun.com/exdb/mnist/train-images-idx3-ubyte.gz to ./data/MNIST/raw/train-images-idx3-ubyte.gz\n"
     ]
    },
    {
     "data": {
      "application/vnd.jupyter.widget-view+json": {
       "model_id": "7767520dd5bd46378f7ed2a8ca7bd6be",
       "version_major": 2,
       "version_minor": 0
      },
      "text/plain": [
       "HBox(children=(FloatProgress(value=1.0, bar_style='info', max=1.0), HTML(value='')))"
      ]
     },
     "metadata": {},
     "output_type": "display_data"
    },
    {
     "name": "stdout",
     "output_type": "stream",
     "text": [
      "Extracting ./data/MNIST/raw/train-images-idx3-ubyte.gz to ./data/MNIST/raw\n",
      "Downloading http://yann.lecun.com/exdb/mnist/train-labels-idx1-ubyte.gz to ./data/MNIST/raw/train-labels-idx1-ubyte.gz\n"
     ]
    },
    {
     "data": {
      "application/vnd.jupyter.widget-view+json": {
       "model_id": "3c17fce4fa4c44ef9576e34f512eb3cc",
       "version_major": 2,
       "version_minor": 0
      },
      "text/plain": [
       "HBox(children=(FloatProgress(value=1.0, bar_style='info', max=1.0), HTML(value='')))"
      ]
     },
     "metadata": {},
     "output_type": "display_data"
    },
    {
     "name": "stdout",
     "output_type": "stream",
     "text": [
      "Extracting ./data/MNIST/raw/train-labels-idx1-ubyte.gz to ./data/MNIST/raw\n",
      "Downloading http://yann.lecun.com/exdb/mnist/t10k-images-idx3-ubyte.gz to ./data/MNIST/raw/t10k-images-idx3-ubyte.gz\n",
      "\n"
     ]
    },
    {
     "data": {
      "application/vnd.jupyter.widget-view+json": {
       "model_id": "6cc5470e89134df79c754a9dc2d7d201",
       "version_major": 2,
       "version_minor": 0
      },
      "text/plain": [
       "HBox(children=(FloatProgress(value=1.0, bar_style='info', max=1.0), HTML(value='')))"
      ]
     },
     "metadata": {},
     "output_type": "display_data"
    },
    {
     "name": "stdout",
     "output_type": "stream",
     "text": [
      "Extracting ./data/MNIST/raw/t10k-images-idx3-ubyte.gz to ./data/MNIST/raw\n",
      "Downloading http://yann.lecun.com/exdb/mnist/t10k-labels-idx1-ubyte.gz to ./data/MNIST/raw/t10k-labels-idx1-ubyte.gz\n"
     ]
    },
    {
     "data": {
      "application/vnd.jupyter.widget-view+json": {
       "model_id": "0ef6e4b398fb4ddaad004e6516fbb872",
       "version_major": 2,
       "version_minor": 0
      },
      "text/plain": [
       "HBox(children=(FloatProgress(value=1.0, bar_style='info', max=1.0), HTML(value='')))"
      ]
     },
     "metadata": {},
     "output_type": "display_data"
    },
    {
     "name": "stdout",
     "output_type": "stream",
     "text": [
      "Extracting ./data/MNIST/raw/t10k-labels-idx1-ubyte.gz to ./data/MNIST/raw\n",
      "Processing...\n",
      "Done!\n",
      "torch.Size([100, 1, 28, 28])\n",
      "\n"
     ]
    },
    {
     "name": "stderr",
     "output_type": "stream",
     "text": [
      "/Users/pedrojose/opt/anaconda3/lib/python3.8/site-packages/torchvision/datasets/mnist.py:480: UserWarning: The given NumPy array is not writeable, and PyTorch does not support non-writeable tensors. This means you can write to the underlying (supposedly non-writeable) NumPy array using the tensor. You may want to copy the array to protect its data or make it writeable before converting it to a tensor. This type of warning will be suppressed for the rest of this program. (Triggered internally at  /Users/distiller/project/conda/conda-bld/pytorch_1607370249289/work/torch/csrc/utils/tensor_numpy.cpp:141.)\n",
      "  return torch.from_numpy(parsed.astype(m[2], copy=False)).view(*s)\n"
     ]
    },
    {
     "name": "stdout",
     "output_type": "stream",
     "text": [
      "\n",
      "\n"
     ]
    },
    {
     "data": {
      "image/png": "[encoded data removed]",
      "text/plain": [
       "<Figure size 432x288 with 6 Axes>"
      ]
     },
     "metadata": {
      "needs_background": "light"
     },
     "output_type": "display_data"
    },
    {
     "name": "stdout",
     "output_type": "stream",
     "text": [
      "Epoch [1/2], Step [100/600], Loss: 0.4334\n",
      "Epoch [1/2], Step [200/600], Loss: 0.3424\n",
      "Epoch [1/2], Step [300/600], Loss: 0.2636\n",
      "Epoch [1/2], Step [400/600], Loss: 0.2579\n",
      "Epoch [1/2], Step [500/600], Loss: 0.1703\n",
      "Epoch [1/2], Step [600/600], Loss: 0.2855\n",
      "Epoch [2/2], Step [100/600], Loss: 0.1818\n",
      "Epoch [2/2], Step [200/600], Loss: 0.1302\n",
      "Epoch [2/2], Step [300/600], Loss: 0.1182\n",
      "Epoch [2/2], Step [400/600], Loss: 0.1500\n",
      "Epoch [2/2], Step [500/600], Loss: 0.1557\n",
      "Epoch [2/2], Step [600/600], Loss: 0.1358\n",
      "Accuracy of the network on the 10000 test images: 95.93 %\n"
     ]
    }
   ],
   "source": [
    "device = torch.device('cuda' if torch.cuda.is_available() else 'cpu')\n",
    "\n",
    "#hyperparameters\n",
    "input_size = 784\n",
    "hidden_size = 128\n",
    "hidden_size_two = 64\n",
    "num_classes = 10\n",
    "num_epochs = 2\n",
    "batch_size = 100\n",
    "learning_rate = 0.001\n",
    "\n",
    "\n",
    "train_dataset = torchvision.datasets.MNIST(root='./data', train=True, \n",
    "                                           transform=transforms.ToTensor(), download=True)\n",
    "\n",
    "test_dataset = torchvision.datasets.MNIST(root='./data', train=False,\n",
    "                                         transform=transforms.ToTensor())\n",
    "\n",
    "train_loader = torch.utils.data.DataLoader(dataset=train_dataset, \n",
    "                                           batch_size=batch_size, shuffle=True)\n",
    "\n",
    "test_loader = torch.utils.data.DataLoader(dataset=test_dataset, batch_size=batch_size, shuffle=False)\n",
    "\n",
    "examples = iter(train_loader)\n",
    "samples, labels = examples.next()\n",
    "\n",
    "print(samples.shape)\n",
    "\n",
    "for i in range(6):\n",
    "    plt.subplot(2, 3, i+1)\n",
    "    plt.imshow(samples[i][0], cmap='gray')\n",
    "plt.show()\n",
    "\n",
    "\"\"\"class Layer(nn.Module):\n",
    "    \n",
    "    def __init__(self, input_size, output_size, act_function):\n",
    "        super(Layer, self).__init__()\n",
    "        self.input_size = input_size\n",
    "        \n",
    "        self.layer = nn.Linear(input_size, output_size)\n",
    "        self.activation_func = act_function\n",
    "        self.output_size = output_size\n",
    "    def input_size():\n",
    "        return self.input_size\n",
    "    \n",
    "    def output_size():\n",
    "        return self.output_size\n",
    "    \n",
    "    def layer(self):\n",
    "        return self.layer\n",
    "    \n",
    "    def forward(self, x):\n",
    "        out = self.layer(x)\n",
    "        out = self.activation_func().current_activation_function(out)\n",
    "        return out\"\"\"\n",
    "        \n",
    "        \n",
    "class NeuralNet(nn.Module):\n",
    "    def __init__(self, input_size, hidden_size, hidden_size_two, num_classes, act_function):\n",
    "        super(NeuralNet, self).__init__()\n",
    "        #self.layers = []\n",
    "\n",
    "        self.input_size = input_size\n",
    "        self.l1 = nn.Linear(input_size, hidden_size) \n",
    "        #self.relu = nn.ReLU()\n",
    "        self.act_func = act_function\n",
    "        self.l2 = nn.Linear(hidden_size, hidden_size_two)  \n",
    "        self.act_func = act_function\n",
    "        self.l3 = nn.Linear(hidden_size_two, num_classes)\n",
    "        \n",
    "    def forward(self, x):\n",
    "        out = self.l1(x)\n",
    "        #out = self.relu(out)\n",
    "        out = self.act_func(out)\n",
    "        out = self.l2(out)\n",
    "        out = self.act_func(out)\n",
    "        out = self.l3(out)\n",
    "        # no activation and no softmax at the end\n",
    "        return out\n",
    "\n",
    "\n",
    "act_func = Activation('relu').current_activation_function()\n",
    "model = NeuralNet(input_size, hidden_size, hidden_size_two, num_classes, act_func).to(device)\n",
    "\n",
    "# Loss and optimizer\n",
    "#model.forward\n",
    "criterion = Loss('cross_entropy').current_loss_function()#nn.CrossEntropyLoss()\n",
    "#optimizer = torch.optim.Adam(model.parameters(), lr=learning_rate)  \n",
    "optimizer = Optimizer(model, 'Adam', learning_rate=learning_rate).current_optimizer()\n",
    "\n",
    "# Train the model\n",
    "n_total_steps = len(train_loader)\n",
    "for epoch in range(num_epochs):\n",
    "    for i, (images, labels) in enumerate(train_loader):  \n",
    "        # origin shape: [100, 1, 28, 28]\n",
    "        # resized: [100, 784]\n",
    "        images = images.reshape(-1, 28*28).to(device)\n",
    "        labels = labels.to(device)\n",
    "        \n",
    "        # Forward pass\n",
    "        outputs = model(images)\n",
    "        loss = criterion(outputs, labels)\n",
    "        \n",
    "        # Backward and optimize\n",
    "        #optimizer.optimize(loss)\n",
    "        optimizer.zero_grad()\n",
    "        loss.backward()\n",
    "        optimizer.step()\n",
    "\n",
    "        if (i+1) % 100 == 0:\n",
    "            print (f'Epoch [{epoch+1}/{num_epochs}], Step [{i+1}/{n_total_steps}], Loss: {loss.item():.4f}')\n",
    "\n",
    "# Test the model\n",
    "# In test phase, we don't need to compute gradients (for memory efficiency)\n",
    "with torch.no_grad():\n",
    "    n_correct = 0\n",
    "    n_samples = 0\n",
    "    for images, labels in test_loader:\n",
    "        images = images.reshape(-1, 28*28).to(device)\n",
    "        labels = labels.to(device)\n",
    "        outputs = model(images)\n",
    "        # max returns (value ,index)\n",
    "        _, predicted = torch.max(outputs.data, 1)\n",
    "        n_samples += labels.size(0)\n",
    "        n_correct += (predicted == labels).sum().item()\n",
    "\n",
    "    acc = 100.0 * n_correct / n_samples\n",
    "    print(f'Accuracy of the network on the 10000 test images: {acc} %')"
   ]
  },
  {
   "cell_type": "code",
   "execution_count": null,
   "metadata": {},
   "outputs": [],
   "source": []
  },
  {
   "cell_type": "code",
   "execution_count": null,
   "metadata": {},
   "outputs": [],
   "source": []
  },
  {
   "cell_type": "code",
   "execution_count": null,
   "metadata": {},
   "outputs": [],
   "source": []
  }
 ],
 "metadata": {
  "kernelspec": {
   "display_name": "Python 3",
   "language": "python",
   "name": "python3"
  },
  "language_info": {
   "codemirror_mode": {
    "name": "ipython",
    "version": 3
   },
   "file_extension": ".py",
   "mimetype": "text/x-python",
   "name": "python",
   "nbconvert_exporter": "python",
   "pygments_lexer": "ipython3",
   "version": "3.8.3"
  }
 },
 "nbformat": 4,
 "nbformat_minor": 4
}
