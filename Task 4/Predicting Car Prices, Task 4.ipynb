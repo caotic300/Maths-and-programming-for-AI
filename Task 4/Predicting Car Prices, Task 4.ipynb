{
 "cells": [
  {
   "cell_type": "markdown",
   "metadata": {},
   "source": [
    "# Predicting and Analysing Car Prices and Car Insurance Status, Task 4"
   ]
  },
  {
   "cell_type": "code",
   "execution_count": 41,
   "metadata": {},
   "outputs": [],
   "source": [
    "import pandas as pd\n",
    "import matplotlib.pyplot as plt\n",
    "import seaborn as sns\n",
    "import numpy as np\n",
    "%matplotlib inline"
   ]
  },
  {
   "cell_type": "markdown",
   "metadata": {},
   "source": [
    "## Analysing Data "
   ]
  },
  {
   "cell_type": "markdown",
   "metadata": {},
   "source": [
    "### Importing the dataset\n",
    "\n",
    "This will import the dataset.\n",
    "\n",
    "This dataset includes 12 features:\n",
    "- Price. The sale price of the vehicle\n",
    "- Years. The vehicle registration year\n",
    "- Brand. The brand of the car\n",
    "- Model. The model of the vehicle\n",
    "- state/city. The location in which the car is being available for purchase\n",
    "- mileage. miles traveled by vehicle\n",
    "- Vin. The vehicle identification number\n",
    "- Title Status. This feature included binary classification, which are clean title vehicles and salvage insurance\n",
    "- Lot. Number by manufacturer combined to make vin\n",
    "- Condition"
   ]
  },
  {
   "cell_type": "code",
   "execution_count": 42,
   "metadata": {},
   "outputs": [
    {
     "data": {
      "text/html": [
       "<div>\n",
       "<style scoped>\n",
       "    .dataframe tbody tr th:only-of-type {\n",
       "        vertical-align: middle;\n",
       "    }\n",
       "\n",
       "    .dataframe tbody tr th {\n",
       "        vertical-align: top;\n",
       "    }\n",
       "\n",
       "    .dataframe thead th {\n",
       "        text-align: right;\n",
       "    }\n",
       "</style>\n",
       "<table border=\"1\" class=\"dataframe\">\n",
       "  <thead>\n",
       "    <tr style=\"text-align: right;\">\n",
       "      <th></th>\n",
       "      <th>Unnamed: 0</th>\n",
       "      <th>price</th>\n",
       "      <th>brand</th>\n",
       "      <th>model</th>\n",
       "      <th>year</th>\n",
       "      <th>title_status</th>\n",
       "      <th>mileage</th>\n",
       "      <th>color</th>\n",
       "      <th>vin</th>\n",
       "      <th>lot</th>\n",
       "      <th>state</th>\n",
       "      <th>country</th>\n",
       "      <th>condition</th>\n",
       "    </tr>\n",
       "  </thead>\n",
       "  <tbody>\n",
       "    <tr>\n",
       "      <th>0</th>\n",
       "      <td>0</td>\n",
       "      <td>6300</td>\n",
       "      <td>toyota</td>\n",
       "      <td>cruiser</td>\n",
       "      <td>2008</td>\n",
       "      <td>clean vehicle</td>\n",
       "      <td>274117.0</td>\n",
       "      <td>black</td>\n",
       "      <td>jtezu11f88k007763</td>\n",
       "      <td>159348797</td>\n",
       "      <td>new jersey</td>\n",
       "      <td>usa</td>\n",
       "      <td>10 days left</td>\n",
       "    </tr>\n",
       "    <tr>\n",
       "      <th>1</th>\n",
       "      <td>1</td>\n",
       "      <td>2899</td>\n",
       "      <td>ford</td>\n",
       "      <td>se</td>\n",
       "      <td>2011</td>\n",
       "      <td>clean vehicle</td>\n",
       "      <td>190552.0</td>\n",
       "      <td>silver</td>\n",
       "      <td>2fmdk3gc4bbb02217</td>\n",
       "      <td>166951262</td>\n",
       "      <td>tennessee</td>\n",
       "      <td>usa</td>\n",
       "      <td>6 days left</td>\n",
       "    </tr>\n",
       "    <tr>\n",
       "      <th>2</th>\n",
       "      <td>2</td>\n",
       "      <td>5350</td>\n",
       "      <td>dodge</td>\n",
       "      <td>mpv</td>\n",
       "      <td>2018</td>\n",
       "      <td>clean vehicle</td>\n",
       "      <td>39590.0</td>\n",
       "      <td>silver</td>\n",
       "      <td>3c4pdcgg5jt346413</td>\n",
       "      <td>167655728</td>\n",
       "      <td>georgia</td>\n",
       "      <td>usa</td>\n",
       "      <td>2 days left</td>\n",
       "    </tr>\n",
       "    <tr>\n",
       "      <th>3</th>\n",
       "      <td>3</td>\n",
       "      <td>25000</td>\n",
       "      <td>ford</td>\n",
       "      <td>door</td>\n",
       "      <td>2014</td>\n",
       "      <td>clean vehicle</td>\n",
       "      <td>64146.0</td>\n",
       "      <td>blue</td>\n",
       "      <td>1ftfw1et4efc23745</td>\n",
       "      <td>167753855</td>\n",
       "      <td>virginia</td>\n",
       "      <td>usa</td>\n",
       "      <td>22 hours left</td>\n",
       "    </tr>\n",
       "    <tr>\n",
       "      <th>4</th>\n",
       "      <td>4</td>\n",
       "      <td>27700</td>\n",
       "      <td>chevrolet</td>\n",
       "      <td>1500</td>\n",
       "      <td>2018</td>\n",
       "      <td>clean vehicle</td>\n",
       "      <td>6654.0</td>\n",
       "      <td>red</td>\n",
       "      <td>3gcpcrec2jg473991</td>\n",
       "      <td>167763266</td>\n",
       "      <td>florida</td>\n",
       "      <td>usa</td>\n",
       "      <td>22 hours left</td>\n",
       "    </tr>\n",
       "  </tbody>\n",
       "</table>\n",
       "</div>"
      ],
      "text/plain": [
       "   Unnamed: 0  price      brand    model  year   title_status   mileage  \\\n",
       "0           0   6300     toyota  cruiser  2008  clean vehicle  274117.0   \n",
       "1           1   2899       ford       se  2011  clean vehicle  190552.0   \n",
       "2           2   5350      dodge      mpv  2018  clean vehicle   39590.0   \n",
       "3           3  25000       ford     door  2014  clean vehicle   64146.0   \n",
       "4           4  27700  chevrolet     1500  2018  clean vehicle    6654.0   \n",
       "\n",
       "    color                  vin        lot       state country      condition  \n",
       "0   black    jtezu11f88k007763  159348797  new jersey     usa   10 days left  \n",
       "1  silver    2fmdk3gc4bbb02217  166951262   tennessee     usa    6 days left  \n",
       "2  silver    3c4pdcgg5jt346413  167655728     georgia     usa    2 days left  \n",
       "3    blue    1ftfw1et4efc23745  167753855    virginia     usa  22 hours left  \n",
       "4     red    3gcpcrec2jg473991  167763266     florida     usa  22 hours left  "
      ]
     },
     "execution_count": 42,
     "metadata": {},
     "output_type": "execute_result"
    }
   ],
   "source": [
    "import os\n",
    "# it was supposed to call the dirname, but it did not work so I downloaded file\n",
    "for dirname, _, filenames in os.walk('/kaggle/input'):\n",
    "    for filename in filenames:\n",
    "        print(os.path.join(dirname, filename))\n",
    "\n",
    "cars = pd.read_csv('./USA_cars_datasets.csv')\n",
    "\n",
    "##checking data\n",
    "cars.head()"
   ]
  },
  {
   "cell_type": "markdown",
   "metadata": {},
   "source": [
    "### Dropping unnecesary columns\n",
    "This colums as we can see such as 'Unnamed:0', or Condition are columns that will not help us in the prediction."
   ]
  },
  {
   "cell_type": "code",
   "execution_count": 43,
   "metadata": {},
   "outputs": [
    {
     "data": {
      "text/html": [
       "<div>\n",
       "<style scoped>\n",
       "    .dataframe tbody tr th:only-of-type {\n",
       "        vertical-align: middle;\n",
       "    }\n",
       "\n",
       "    .dataframe tbody tr th {\n",
       "        vertical-align: top;\n",
       "    }\n",
       "\n",
       "    .dataframe thead th {\n",
       "        text-align: right;\n",
       "    }\n",
       "</style>\n",
       "<table border=\"1\" class=\"dataframe\">\n",
       "  <thead>\n",
       "    <tr style=\"text-align: right;\">\n",
       "      <th></th>\n",
       "      <th>price</th>\n",
       "      <th>brand</th>\n",
       "      <th>model</th>\n",
       "      <th>year</th>\n",
       "      <th>title_status</th>\n",
       "      <th>mileage</th>\n",
       "      <th>color</th>\n",
       "      <th>state</th>\n",
       "      <th>country</th>\n",
       "    </tr>\n",
       "  </thead>\n",
       "  <tbody>\n",
       "    <tr>\n",
       "      <th>0</th>\n",
       "      <td>6300</td>\n",
       "      <td>toyota</td>\n",
       "      <td>cruiser</td>\n",
       "      <td>2008</td>\n",
       "      <td>clean vehicle</td>\n",
       "      <td>274117.0</td>\n",
       "      <td>black</td>\n",
       "      <td>new jersey</td>\n",
       "      <td>usa</td>\n",
       "    </tr>\n",
       "    <tr>\n",
       "      <th>1</th>\n",
       "      <td>2899</td>\n",
       "      <td>ford</td>\n",
       "      <td>se</td>\n",
       "      <td>2011</td>\n",
       "      <td>clean vehicle</td>\n",
       "      <td>190552.0</td>\n",
       "      <td>silver</td>\n",
       "      <td>tennessee</td>\n",
       "      <td>usa</td>\n",
       "    </tr>\n",
       "    <tr>\n",
       "      <th>2</th>\n",
       "      <td>5350</td>\n",
       "      <td>dodge</td>\n",
       "      <td>mpv</td>\n",
       "      <td>2018</td>\n",
       "      <td>clean vehicle</td>\n",
       "      <td>39590.0</td>\n",
       "      <td>silver</td>\n",
       "      <td>georgia</td>\n",
       "      <td>usa</td>\n",
       "    </tr>\n",
       "    <tr>\n",
       "      <th>3</th>\n",
       "      <td>25000</td>\n",
       "      <td>ford</td>\n",
       "      <td>door</td>\n",
       "      <td>2014</td>\n",
       "      <td>clean vehicle</td>\n",
       "      <td>64146.0</td>\n",
       "      <td>blue</td>\n",
       "      <td>virginia</td>\n",
       "      <td>usa</td>\n",
       "    </tr>\n",
       "    <tr>\n",
       "      <th>4</th>\n",
       "      <td>27700</td>\n",
       "      <td>chevrolet</td>\n",
       "      <td>1500</td>\n",
       "      <td>2018</td>\n",
       "      <td>clean vehicle</td>\n",
       "      <td>6654.0</td>\n",
       "      <td>red</td>\n",
       "      <td>florida</td>\n",
       "      <td>usa</td>\n",
       "    </tr>\n",
       "  </tbody>\n",
       "</table>\n",
       "</div>"
      ],
      "text/plain": [
       "   price      brand    model  year   title_status   mileage   color  \\\n",
       "0   6300     toyota  cruiser  2008  clean vehicle  274117.0   black   \n",
       "1   2899       ford       se  2011  clean vehicle  190552.0  silver   \n",
       "2   5350      dodge      mpv  2018  clean vehicle   39590.0  silver   \n",
       "3  25000       ford     door  2014  clean vehicle   64146.0    blue   \n",
       "4  27700  chevrolet     1500  2018  clean vehicle    6654.0     red   \n",
       "\n",
       "        state country  \n",
       "0  new jersey     usa  \n",
       "1   tennessee     usa  \n",
       "2     georgia     usa  \n",
       "3    virginia     usa  \n",
       "4     florida     usa  "
      ]
     },
     "execution_count": 43,
     "metadata": {},
     "output_type": "execute_result"
    }
   ],
   "source": [
    "cars.drop(['vin', 'lot', 'Unnamed: 0', 'condition'], axis=1, inplace=True)\n",
    "cars.head()"
   ]
  },
  {
   "cell_type": "markdown",
   "metadata": {},
   "source": [
    "### Checking the column types and other info\n",
    "\n",
    "We are going to check the type of objects and columns that we have to choose which ones can be useful to predict"
   ]
  },
  {
   "cell_type": "code",
   "execution_count": 44,
   "metadata": {},
   "outputs": [
    {
     "name": "stdout",
     "output_type": "stream",
     "text": [
      "<class 'pandas.core.frame.DataFrame'>\n",
      "RangeIndex: 2499 entries, 0 to 2498\n",
      "Data columns (total 9 columns):\n",
      " #   Column        Non-Null Count  Dtype  \n",
      "---  ------        --------------  -----  \n",
      " 0   price         2499 non-null   int64  \n",
      " 1   brand         2499 non-null   object \n",
      " 2   model         2499 non-null   object \n",
      " 3   year          2499 non-null   int64  \n",
      " 4   title_status  2499 non-null   object \n",
      " 5   mileage       2499 non-null   float64\n",
      " 6   color         2499 non-null   object \n",
      " 7   state         2499 non-null   object \n",
      " 8   country       2499 non-null   object \n",
      "dtypes: float64(1), int64(2), object(6)\n",
      "memory usage: 175.8+ KB\n"
     ]
    }
   ],
   "source": [
    "cars.info()"
   ]
  },
  {
   "cell_type": "markdown",
   "metadata": {},
   "source": [
    "### Finding general stadistics\n",
    "\n",
    "We are finding general statistics for the different columns, such as mean, count, standard deviation, the quarterly, this will give as a way to visualise how the data is distrubuted between columns."
   ]
  },
  {
   "cell_type": "code",
   "execution_count": 45,
   "metadata": {},
   "outputs": [
    {
     "data": {
      "text/html": [
       "<style  type=\"text/css\" >\n",
       "</style><table id=\"T_a2110f44_4215_11eb_8ed3_f218984e3a95\" ><thead>    <tr>        <th class=\"blank level0\" ></th>        <th class=\"col_heading level0 col0\" >price</th>        <th class=\"col_heading level0 col1\" >year</th>        <th class=\"col_heading level0 col2\" >mileage</th>    </tr></thead><tbody>\n",
       "                <tr>\n",
       "                        <th id=\"T_a2110f44_4215_11eb_8ed3_f218984e3a95level0_row0\" class=\"row_heading level0 row0\" >count</th>\n",
       "                        <td id=\"T_a2110f44_4215_11eb_8ed3_f218984e3a95row0_col0\" class=\"data row0 col0\" >2499.00</td>\n",
       "                        <td id=\"T_a2110f44_4215_11eb_8ed3_f218984e3a95row0_col1\" class=\"data row0 col1\" >2499.00</td>\n",
       "                        <td id=\"T_a2110f44_4215_11eb_8ed3_f218984e3a95row0_col2\" class=\"data row0 col2\" >2499.00</td>\n",
       "            </tr>\n",
       "            <tr>\n",
       "                        <th id=\"T_a2110f44_4215_11eb_8ed3_f218984e3a95level0_row1\" class=\"row_heading level0 row1\" >mean</th>\n",
       "                        <td id=\"T_a2110f44_4215_11eb_8ed3_f218984e3a95row1_col0\" class=\"data row1 col0\" >18767.67</td>\n",
       "                        <td id=\"T_a2110f44_4215_11eb_8ed3_f218984e3a95row1_col1\" class=\"data row1 col1\" >2016.71</td>\n",
       "                        <td id=\"T_a2110f44_4215_11eb_8ed3_f218984e3a95row1_col2\" class=\"data row1 col2\" >52298.69</td>\n",
       "            </tr>\n",
       "            <tr>\n",
       "                        <th id=\"T_a2110f44_4215_11eb_8ed3_f218984e3a95level0_row2\" class=\"row_heading level0 row2\" >std</th>\n",
       "                        <td id=\"T_a2110f44_4215_11eb_8ed3_f218984e3a95row2_col0\" class=\"data row2 col0\" >12116.09</td>\n",
       "                        <td id=\"T_a2110f44_4215_11eb_8ed3_f218984e3a95row2_col1\" class=\"data row2 col1\" >3.44</td>\n",
       "                        <td id=\"T_a2110f44_4215_11eb_8ed3_f218984e3a95row2_col2\" class=\"data row2 col2\" >59705.52</td>\n",
       "            </tr>\n",
       "            <tr>\n",
       "                        <th id=\"T_a2110f44_4215_11eb_8ed3_f218984e3a95level0_row3\" class=\"row_heading level0 row3\" >min</th>\n",
       "                        <td id=\"T_a2110f44_4215_11eb_8ed3_f218984e3a95row3_col0\" class=\"data row3 col0\" >0.00</td>\n",
       "                        <td id=\"T_a2110f44_4215_11eb_8ed3_f218984e3a95row3_col1\" class=\"data row3 col1\" >1973.00</td>\n",
       "                        <td id=\"T_a2110f44_4215_11eb_8ed3_f218984e3a95row3_col2\" class=\"data row3 col2\" >0.00</td>\n",
       "            </tr>\n",
       "            <tr>\n",
       "                        <th id=\"T_a2110f44_4215_11eb_8ed3_f218984e3a95level0_row4\" class=\"row_heading level0 row4\" >25%</th>\n",
       "                        <td id=\"T_a2110f44_4215_11eb_8ed3_f218984e3a95row4_col0\" class=\"data row4 col0\" >10200.00</td>\n",
       "                        <td id=\"T_a2110f44_4215_11eb_8ed3_f218984e3a95row4_col1\" class=\"data row4 col1\" >2016.00</td>\n",
       "                        <td id=\"T_a2110f44_4215_11eb_8ed3_f218984e3a95row4_col2\" class=\"data row4 col2\" >21466.50</td>\n",
       "            </tr>\n",
       "            <tr>\n",
       "                        <th id=\"T_a2110f44_4215_11eb_8ed3_f218984e3a95level0_row5\" class=\"row_heading level0 row5\" >50%</th>\n",
       "                        <td id=\"T_a2110f44_4215_11eb_8ed3_f218984e3a95row5_col0\" class=\"data row5 col0\" >16900.00</td>\n",
       "                        <td id=\"T_a2110f44_4215_11eb_8ed3_f218984e3a95row5_col1\" class=\"data row5 col1\" >2018.00</td>\n",
       "                        <td id=\"T_a2110f44_4215_11eb_8ed3_f218984e3a95row5_col2\" class=\"data row5 col2\" >35365.00</td>\n",
       "            </tr>\n",
       "            <tr>\n",
       "                        <th id=\"T_a2110f44_4215_11eb_8ed3_f218984e3a95level0_row6\" class=\"row_heading level0 row6\" >75%</th>\n",
       "                        <td id=\"T_a2110f44_4215_11eb_8ed3_f218984e3a95row6_col0\" class=\"data row6 col0\" >25555.50</td>\n",
       "                        <td id=\"T_a2110f44_4215_11eb_8ed3_f218984e3a95row6_col1\" class=\"data row6 col1\" >2019.00</td>\n",
       "                        <td id=\"T_a2110f44_4215_11eb_8ed3_f218984e3a95row6_col2\" class=\"data row6 col2\" >63472.50</td>\n",
       "            </tr>\n",
       "            <tr>\n",
       "                        <th id=\"T_a2110f44_4215_11eb_8ed3_f218984e3a95level0_row7\" class=\"row_heading level0 row7\" >max</th>\n",
       "                        <td id=\"T_a2110f44_4215_11eb_8ed3_f218984e3a95row7_col0\" class=\"data row7 col0\" >84900.00</td>\n",
       "                        <td id=\"T_a2110f44_4215_11eb_8ed3_f218984e3a95row7_col1\" class=\"data row7 col1\" >2020.00</td>\n",
       "                        <td id=\"T_a2110f44_4215_11eb_8ed3_f218984e3a95row7_col2\" class=\"data row7 col2\" >1017936.00</td>\n",
       "            </tr>\n",
       "    </tbody></table>"
      ],
      "text/plain": [
       "<pandas.io.formats.style.Styler at 0x7fd47e852880>"
      ]
     },
     "execution_count": 45,
     "metadata": {},
     "output_type": "execute_result"
    }
   ],
   "source": [
    "cars.describe().style.format('{:0.2f}')"
   ]
  },
  {
   "cell_type": "markdown",
   "metadata": {},
   "source": [
    "We are checking if there are any nulls before analysing as this could impact or prediction."
   ]
  },
  {
   "cell_type": "code",
   "execution_count": 46,
   "metadata": {
    "scrolled": false
   },
   "outputs": [
    {
     "data": {
      "text/plain": [
       "price           0\n",
       "brand           0\n",
       "model           0\n",
       "year            0\n",
       "title_status    0\n",
       "mileage         0\n",
       "color           0\n",
       "state           0\n",
       "country         0\n",
       "dtype: int64"
      ]
     },
     "execution_count": 46,
     "metadata": {},
     "output_type": "execute_result"
    }
   ],
   "source": [
    "cars.isnull().sum()"
   ]
  },
  {
   "cell_type": "markdown",
   "metadata": {},
   "source": [
    "### Checking mileage vs price and year vs price"
   ]
  },
  {
   "cell_type": "markdown",
   "metadata": {},
   "source": [
    "We will visualise how the price changes as the mileage and the price and year (the year the vehicle was registered) increases. "
   ]
  },
  {
   "cell_type": "code",
   "execution_count": 47,
   "metadata": {},
   "outputs": [
    {
     "data": {
      "text/plain": [
       "Text(0.5, 0, 'Year')"
      ]
     },
     "execution_count": 47,
     "metadata": {},
     "output_type": "execute_result"
    },
    {
     "data": {
      "image/png": "[encoded data removed]",
      "text/plain": [
       "<Figure size 1800x576 with 2 Axes>"
      ]
     },
     "metadata": {},
     "output_type": "display_data"
    }
   ],
   "source": [
    "sns.set_style('whitegrid')\n",
    "fig, (ax1, ax2) = plt.subplots(1, 2, figsize=(25, 8))\n",
    "\n",
    "ax1.scatter(x='mileage', y='price', data=cars, marker='.', linewidth= .3, s=140)\n",
    "\n",
    "ax2.scatter(x='year', y='price', data=cars, marker='.', linewidth= .3, s=140)\n",
    "\n",
    "ax1.set_title('Price vs Mileage', fontsize=20, fontweight='bold')\n",
    "ax1.set_ylabel('Price',fontsize=20)\n",
    "ax1.set_xlabel('Mileage',fontsize=20)\n",
    "\n",
    "\n",
    "ax2.set_title('Price vs Year', fontsize=20, fontweight='bold')\n",
    "ax2.set_ylabel('Price',fontsize=20)\n",
    "\n",
    "ax2.set_xlabel('Year',fontsize=20)\n"
   ]
  },
  {
   "cell_type": "markdown",
   "metadata": {},
   "source": [
    "We can observe from Price vs Mileage that as the car has more mileage, the price decreases exponentially. \n",
    "\n",
    "We can also observe that the price of cars tend to rise with time from Price vs Year plot.\n",
    "We can conclude that new vehicle tend to be more expensive with the year than old vehicles. At least when it is registered. "
   ]
  },
  {
   "cell_type": "markdown",
   "metadata": {},
   "source": [
    "### Visualising proportion of title status vehicles"
   ]
  },
  {
   "cell_type": "code",
   "execution_count": 48,
   "metadata": {},
   "outputs": [
    {
     "data": {
      "text/plain": [
       "<matplotlib.axes._subplots.AxesSubplot at 0x7fd482bb3b80>"
      ]
     },
     "execution_count": 48,
     "metadata": {},
     "output_type": "execute_result"
    },
    {
     "data": {
      "image/png": "[encoded data removed]",
      "text/plain": [
       "<Figure size 432x288 with 1 Axes>"
      ]
     },
     "metadata": {},
     "output_type": "display_data"
    }
   ],
   "source": [
    "sns.scatterplot(y='price', x='mileage', data=cars, hue='title_status')"
   ]
  },
  {
   "cell_type": "markdown",
   "metadata": {},
   "source": [
    "We can observe that there is higher price with clean vehicles than salvage insurance. We can also observe some outliers.In the graph. The price tends to decrease exponentionally as the millage increases"
   ]
  },
  {
   "cell_type": "markdown",
   "metadata": {},
   "source": [
    "### Visualising Price Distribution with the quantities of cars released."
   ]
  },
  {
   "cell_type": "code",
   "execution_count": 49,
   "metadata": {
    "scrolled": true
   },
   "outputs": [
    {
     "data": {
      "text/plain": [
       "Text(0, 0.5, 'Quantity')"
      ]
     },
     "execution_count": 49,
     "metadata": {},
     "output_type": "execute_result"
    },
    {
     "data": {
      "image/png": "[encoded data removed]",
      "text/plain": [
       "<Figure size 720x720 with 1 Axes>"
      ]
     },
     "metadata": {},
     "output_type": "display_data"
    }
   ],
   "source": [
    "plt.figure(figsize=(10, 10))\n",
    "price_distribution = plt.hist(x='price', data=cars, bins=30, alpha=.7)\n",
    "plt.title('Price Distribution', fontsize=20, fontweight='bold')\n",
    "plt.xlabel('Price', fontsize=20)\n",
    "plt.ylabel('Quantity', fontsize=20)\n"
   ]
  },
  {
   "cell_type": "markdown",
   "metadata": {},
   "source": [
    "We can conclude from the graph the following observations. As there is less quantity of cars, re"
   ]
  },
  {
   "cell_type": "markdown",
   "metadata": {},
   "source": [
    "## Prediction of Prices "
   ]
  },
  {
   "cell_type": "markdown",
   "metadata": {},
   "source": [
    "We are going to predict the price of cars based in different feautures by using different models"
   ]
  },
  {
   "cell_type": "markdown",
   "metadata": {},
   "source": [
    "### Linear Regression Prediction"
   ]
  },
  {
   "cell_type": "markdown",
   "metadata": {},
   "source": [
    "Checking different brands"
   ]
  },
  {
   "cell_type": "code",
   "execution_count": 50,
   "metadata": {},
   "outputs": [
    {
     "data": {
      "text/plain": [
       "28"
      ]
     },
     "execution_count": 50,
     "metadata": {},
     "output_type": "execute_result"
    }
   ],
   "source": [
    "cars['brand'].nunique()"
   ]
  },
  {
   "cell_type": "markdown",
   "metadata": {},
   "source": [
    "## Encoding columns "
   ]
  },
  {
   "cell_type": "code",
   "execution_count": 51,
   "metadata": {},
   "outputs": [
    {
     "data": {
      "text/html": [
       "<div>\n",
       "<style scoped>\n",
       "    .dataframe tbody tr th:only-of-type {\n",
       "        vertical-align: middle;\n",
       "    }\n",
       "\n",
       "    .dataframe tbody tr th {\n",
       "        vertical-align: top;\n",
       "    }\n",
       "\n",
       "    .dataframe thead th {\n",
       "        text-align: right;\n",
       "    }\n",
       "</style>\n",
       "<table border=\"1\" class=\"dataframe\">\n",
       "  <thead>\n",
       "    <tr style=\"text-align: right;\">\n",
       "      <th></th>\n",
       "      <th>price</th>\n",
       "      <th>brand</th>\n",
       "      <th>model</th>\n",
       "      <th>year</th>\n",
       "      <th>title_status</th>\n",
       "      <th>mileage</th>\n",
       "      <th>color</th>\n",
       "      <th>state</th>\n",
       "    </tr>\n",
       "  </thead>\n",
       "  <tbody>\n",
       "    <tr>\n",
       "      <th>0</th>\n",
       "      <td>6300</td>\n",
       "      <td>toyota</td>\n",
       "      <td>cruiser</td>\n",
       "      <td>2008</td>\n",
       "      <td>clean vehicle</td>\n",
       "      <td>274117.0</td>\n",
       "      <td>black</td>\n",
       "      <td>new jersey</td>\n",
       "    </tr>\n",
       "    <tr>\n",
       "      <th>1</th>\n",
       "      <td>2899</td>\n",
       "      <td>ford</td>\n",
       "      <td>se</td>\n",
       "      <td>2011</td>\n",
       "      <td>clean vehicle</td>\n",
       "      <td>190552.0</td>\n",
       "      <td>silver</td>\n",
       "      <td>tennessee</td>\n",
       "    </tr>\n",
       "    <tr>\n",
       "      <th>2</th>\n",
       "      <td>5350</td>\n",
       "      <td>dodge</td>\n",
       "      <td>mpv</td>\n",
       "      <td>2018</td>\n",
       "      <td>clean vehicle</td>\n",
       "      <td>39590.0</td>\n",
       "      <td>silver</td>\n",
       "      <td>georgia</td>\n",
       "    </tr>\n",
       "    <tr>\n",
       "      <th>3</th>\n",
       "      <td>25000</td>\n",
       "      <td>ford</td>\n",
       "      <td>door</td>\n",
       "      <td>2014</td>\n",
       "      <td>clean vehicle</td>\n",
       "      <td>64146.0</td>\n",
       "      <td>blue</td>\n",
       "      <td>virginia</td>\n",
       "    </tr>\n",
       "    <tr>\n",
       "      <th>4</th>\n",
       "      <td>27700</td>\n",
       "      <td>chevrolet</td>\n",
       "      <td>1500</td>\n",
       "      <td>2018</td>\n",
       "      <td>clean vehicle</td>\n",
       "      <td>6654.0</td>\n",
       "      <td>red</td>\n",
       "      <td>florida</td>\n",
       "    </tr>\n",
       "  </tbody>\n",
       "</table>\n",
       "</div>"
      ],
      "text/plain": [
       "   price      brand    model  year   title_status   mileage   color  \\\n",
       "0   6300     toyota  cruiser  2008  clean vehicle  274117.0   black   \n",
       "1   2899       ford       se  2011  clean vehicle  190552.0  silver   \n",
       "2   5350      dodge      mpv  2018  clean vehicle   39590.0  silver   \n",
       "3  25000       ford     door  2014  clean vehicle   64146.0    blue   \n",
       "4  27700  chevrolet     1500  2018  clean vehicle    6654.0     red   \n",
       "\n",
       "        state  \n",
       "0  new jersey  \n",
       "1   tennessee  \n",
       "2     georgia  \n",
       "3    virginia  \n",
       "4     florida  "
      ]
     },
     "execution_count": 51,
     "metadata": {},
     "output_type": "execute_result"
    }
   ],
   "source": [
    "cars.drop(['country'], axis=1, inplace=True)\n",
    "cars.head()"
   ]
  },
  {
   "cell_type": "markdown",
   "metadata": {},
   "source": [
    "#### We are going to encode the data using get_dummies(), and we will add it to the current dataframe as columns. "
   ]
  },
  {
   "cell_type": "code",
   "execution_count": 52,
   "metadata": {},
   "outputs": [],
   "source": [
    "\n",
    "brand = pd.get_dummies(cars['brand'], drop_first=True)\n",
    "model= pd.get_dummies(cars['model'], drop_first=True)\n",
    "title = pd.get_dummies(cars['title_status'], drop_first=True)\n",
    "color = pd.get_dummies(cars['color'], drop_first=True)\n",
    "state = pd.get_dummies(cars['state'], drop_first=True)\n",
    "\n",
    "cars_modelling_data = pd.concat([cars, brand, model, title, state, color], axis=1)"
   ]
  },
  {
   "cell_type": "code",
   "execution_count": 53,
   "metadata": {},
   "outputs": [
    {
     "data": {
      "text/html": [
       "<div>\n",
       "<style scoped>\n",
       "    .dataframe tbody tr th:only-of-type {\n",
       "        vertical-align: middle;\n",
       "    }\n",
       "\n",
       "    .dataframe tbody tr th {\n",
       "        vertical-align: top;\n",
       "    }\n",
       "\n",
       "    .dataframe thead th {\n",
       "        text-align: right;\n",
       "    }\n",
       "</style>\n",
       "<table border=\"1\" class=\"dataframe\">\n",
       "  <thead>\n",
       "    <tr style=\"text-align: right;\">\n",
       "      <th></th>\n",
       "      <th>price</th>\n",
       "      <th>brand</th>\n",
       "      <th>model</th>\n",
       "      <th>year</th>\n",
       "      <th>title_status</th>\n",
       "      <th>mileage</th>\n",
       "      <th>color</th>\n",
       "      <th>state</th>\n",
       "      <th>audi</th>\n",
       "      <th>bmw</th>\n",
       "      <th>...</th>\n",
       "      <th>silver</th>\n",
       "      <th>super black</th>\n",
       "      <th>tan</th>\n",
       "      <th>toreador red</th>\n",
       "      <th>triple yellow tri-coat</th>\n",
       "      <th>turquoise</th>\n",
       "      <th>tuxedo black metallic</th>\n",
       "      <th>white</th>\n",
       "      <th>white platinum tri-coat metallic</th>\n",
       "      <th>yellow</th>\n",
       "    </tr>\n",
       "  </thead>\n",
       "  <tbody>\n",
       "    <tr>\n",
       "      <th>0</th>\n",
       "      <td>6300</td>\n",
       "      <td>toyota</td>\n",
       "      <td>cruiser</td>\n",
       "      <td>2008</td>\n",
       "      <td>clean vehicle</td>\n",
       "      <td>274117.0</td>\n",
       "      <td>black</td>\n",
       "      <td>new jersey</td>\n",
       "      <td>0</td>\n",
       "      <td>0</td>\n",
       "      <td>...</td>\n",
       "      <td>0</td>\n",
       "      <td>0</td>\n",
       "      <td>0</td>\n",
       "      <td>0</td>\n",
       "      <td>0</td>\n",
       "      <td>0</td>\n",
       "      <td>0</td>\n",
       "      <td>0</td>\n",
       "      <td>0</td>\n",
       "      <td>0</td>\n",
       "    </tr>\n",
       "    <tr>\n",
       "      <th>1</th>\n",
       "      <td>2899</td>\n",
       "      <td>ford</td>\n",
       "      <td>se</td>\n",
       "      <td>2011</td>\n",
       "      <td>clean vehicle</td>\n",
       "      <td>190552.0</td>\n",
       "      <td>silver</td>\n",
       "      <td>tennessee</td>\n",
       "      <td>0</td>\n",
       "      <td>0</td>\n",
       "      <td>...</td>\n",
       "      <td>1</td>\n",
       "      <td>0</td>\n",
       "      <td>0</td>\n",
       "      <td>0</td>\n",
       "      <td>0</td>\n",
       "      <td>0</td>\n",
       "      <td>0</td>\n",
       "      <td>0</td>\n",
       "      <td>0</td>\n",
       "      <td>0</td>\n",
       "    </tr>\n",
       "    <tr>\n",
       "      <th>2</th>\n",
       "      <td>5350</td>\n",
       "      <td>dodge</td>\n",
       "      <td>mpv</td>\n",
       "      <td>2018</td>\n",
       "      <td>clean vehicle</td>\n",
       "      <td>39590.0</td>\n",
       "      <td>silver</td>\n",
       "      <td>georgia</td>\n",
       "      <td>0</td>\n",
       "      <td>0</td>\n",
       "      <td>...</td>\n",
       "      <td>1</td>\n",
       "      <td>0</td>\n",
       "      <td>0</td>\n",
       "      <td>0</td>\n",
       "      <td>0</td>\n",
       "      <td>0</td>\n",
       "      <td>0</td>\n",
       "      <td>0</td>\n",
       "      <td>0</td>\n",
       "      <td>0</td>\n",
       "    </tr>\n",
       "    <tr>\n",
       "      <th>3</th>\n",
       "      <td>25000</td>\n",
       "      <td>ford</td>\n",
       "      <td>door</td>\n",
       "      <td>2014</td>\n",
       "      <td>clean vehicle</td>\n",
       "      <td>64146.0</td>\n",
       "      <td>blue</td>\n",
       "      <td>virginia</td>\n",
       "      <td>0</td>\n",
       "      <td>0</td>\n",
       "      <td>...</td>\n",
       "      <td>0</td>\n",
       "      <td>0</td>\n",
       "      <td>0</td>\n",
       "      <td>0</td>\n",
       "      <td>0</td>\n",
       "      <td>0</td>\n",
       "      <td>0</td>\n",
       "      <td>0</td>\n",
       "      <td>0</td>\n",
       "      <td>0</td>\n",
       "    </tr>\n",
       "    <tr>\n",
       "      <th>4</th>\n",
       "      <td>27700</td>\n",
       "      <td>chevrolet</td>\n",
       "      <td>1500</td>\n",
       "      <td>2018</td>\n",
       "      <td>clean vehicle</td>\n",
       "      <td>6654.0</td>\n",
       "      <td>red</td>\n",
       "      <td>florida</td>\n",
       "      <td>0</td>\n",
       "      <td>0</td>\n",
       "      <td>...</td>\n",
       "      <td>0</td>\n",
       "      <td>0</td>\n",
       "      <td>0</td>\n",
       "      <td>0</td>\n",
       "      <td>0</td>\n",
       "      <td>0</td>\n",
       "      <td>0</td>\n",
       "      <td>0</td>\n",
       "      <td>0</td>\n",
       "      <td>0</td>\n",
       "    </tr>\n",
       "  </tbody>\n",
       "</table>\n",
       "<p>5 rows × 253 columns</p>\n",
       "</div>"
      ],
      "text/plain": [
       "   price      brand    model  year   title_status   mileage   color  \\\n",
       "0   6300     toyota  cruiser  2008  clean vehicle  274117.0   black   \n",
       "1   2899       ford       se  2011  clean vehicle  190552.0  silver   \n",
       "2   5350      dodge      mpv  2018  clean vehicle   39590.0  silver   \n",
       "3  25000       ford     door  2014  clean vehicle   64146.0    blue   \n",
       "4  27700  chevrolet     1500  2018  clean vehicle    6654.0     red   \n",
       "\n",
       "        state  audi  bmw  ...  silver  super black  tan  toreador red  \\\n",
       "0  new jersey     0    0  ...       0            0    0             0   \n",
       "1   tennessee     0    0  ...       1            0    0             0   \n",
       "2     georgia     0    0  ...       1            0    0             0   \n",
       "3    virginia     0    0  ...       0            0    0             0   \n",
       "4     florida     0    0  ...       0            0    0             0   \n",
       "\n",
       "   triple yellow tri-coat  turquoise  tuxedo black metallic  white  \\\n",
       "0                       0          0                      0      0   \n",
       "1                       0          0                      0      0   \n",
       "2                       0          0                      0      0   \n",
       "3                       0          0                      0      0   \n",
       "4                       0          0                      0      0   \n",
       "\n",
       "   white platinum tri-coat metallic  yellow  \n",
       "0                                 0       0  \n",
       "1                                 0       0  \n",
       "2                                 0       0  \n",
       "3                                 0       0  \n",
       "4                                 0       0  \n",
       "\n",
       "[5 rows x 253 columns]"
      ]
     },
     "execution_count": 53,
     "metadata": {},
     "output_type": "execute_result"
    }
   ],
   "source": [
    "cars_modelling_data.head()"
   ]
  },
  {
   "cell_type": "markdown",
   "metadata": {},
   "source": [
    "#### Deleting the old columns that have text, as the new columns has only numbers"
   ]
  },
  {
   "cell_type": "code",
   "execution_count": 54,
   "metadata": {},
   "outputs": [],
   "source": [
    "cars_modelling_data.drop(['brand', 'model', 'state','title_status', 'mileage', 'color'], axis=1,inplace=True)\n"
   ]
  },
  {
   "cell_type": "code",
   "execution_count": 55,
   "metadata": {},
   "outputs": [
    {
     "data": {
      "text/html": [
       "<div>\n",
       "<style scoped>\n",
       "    .dataframe tbody tr th:only-of-type {\n",
       "        vertical-align: middle;\n",
       "    }\n",
       "\n",
       "    .dataframe tbody tr th {\n",
       "        vertical-align: top;\n",
       "    }\n",
       "\n",
       "    .dataframe thead th {\n",
       "        text-align: right;\n",
       "    }\n",
       "</style>\n",
       "<table border=\"1\" class=\"dataframe\">\n",
       "  <thead>\n",
       "    <tr style=\"text-align: right;\">\n",
       "      <th></th>\n",
       "      <th>price</th>\n",
       "      <th>year</th>\n",
       "      <th>audi</th>\n",
       "      <th>bmw</th>\n",
       "      <th>buick</th>\n",
       "      <th>cadillac</th>\n",
       "      <th>chevrolet</th>\n",
       "      <th>chrysler</th>\n",
       "      <th>dodge</th>\n",
       "      <th>ford</th>\n",
       "      <th>...</th>\n",
       "      <th>silver</th>\n",
       "      <th>super black</th>\n",
       "      <th>tan</th>\n",
       "      <th>toreador red</th>\n",
       "      <th>triple yellow tri-coat</th>\n",
       "      <th>turquoise</th>\n",
       "      <th>tuxedo black metallic</th>\n",
       "      <th>white</th>\n",
       "      <th>white platinum tri-coat metallic</th>\n",
       "      <th>yellow</th>\n",
       "    </tr>\n",
       "  </thead>\n",
       "  <tbody>\n",
       "    <tr>\n",
       "      <th>0</th>\n",
       "      <td>6300</td>\n",
       "      <td>2008</td>\n",
       "      <td>0</td>\n",
       "      <td>0</td>\n",
       "      <td>0</td>\n",
       "      <td>0</td>\n",
       "      <td>0</td>\n",
       "      <td>0</td>\n",
       "      <td>0</td>\n",
       "      <td>0</td>\n",
       "      <td>...</td>\n",
       "      <td>0</td>\n",
       "      <td>0</td>\n",
       "      <td>0</td>\n",
       "      <td>0</td>\n",
       "      <td>0</td>\n",
       "      <td>0</td>\n",
       "      <td>0</td>\n",
       "      <td>0</td>\n",
       "      <td>0</td>\n",
       "      <td>0</td>\n",
       "    </tr>\n",
       "    <tr>\n",
       "      <th>1</th>\n",
       "      <td>2899</td>\n",
       "      <td>2011</td>\n",
       "      <td>0</td>\n",
       "      <td>0</td>\n",
       "      <td>0</td>\n",
       "      <td>0</td>\n",
       "      <td>0</td>\n",
       "      <td>0</td>\n",
       "      <td>0</td>\n",
       "      <td>1</td>\n",
       "      <td>...</td>\n",
       "      <td>1</td>\n",
       "      <td>0</td>\n",
       "      <td>0</td>\n",
       "      <td>0</td>\n",
       "      <td>0</td>\n",
       "      <td>0</td>\n",
       "      <td>0</td>\n",
       "      <td>0</td>\n",
       "      <td>0</td>\n",
       "      <td>0</td>\n",
       "    </tr>\n",
       "    <tr>\n",
       "      <th>2</th>\n",
       "      <td>5350</td>\n",
       "      <td>2018</td>\n",
       "      <td>0</td>\n",
       "      <td>0</td>\n",
       "      <td>0</td>\n",
       "      <td>0</td>\n",
       "      <td>0</td>\n",
       "      <td>0</td>\n",
       "      <td>1</td>\n",
       "      <td>0</td>\n",
       "      <td>...</td>\n",
       "      <td>1</td>\n",
       "      <td>0</td>\n",
       "      <td>0</td>\n",
       "      <td>0</td>\n",
       "      <td>0</td>\n",
       "      <td>0</td>\n",
       "      <td>0</td>\n",
       "      <td>0</td>\n",
       "      <td>0</td>\n",
       "      <td>0</td>\n",
       "    </tr>\n",
       "    <tr>\n",
       "      <th>3</th>\n",
       "      <td>25000</td>\n",
       "      <td>2014</td>\n",
       "      <td>0</td>\n",
       "      <td>0</td>\n",
       "      <td>0</td>\n",
       "      <td>0</td>\n",
       "      <td>0</td>\n",
       "      <td>0</td>\n",
       "      <td>0</td>\n",
       "      <td>1</td>\n",
       "      <td>...</td>\n",
       "      <td>0</td>\n",
       "      <td>0</td>\n",
       "      <td>0</td>\n",
       "      <td>0</td>\n",
       "      <td>0</td>\n",
       "      <td>0</td>\n",
       "      <td>0</td>\n",
       "      <td>0</td>\n",
       "      <td>0</td>\n",
       "      <td>0</td>\n",
       "    </tr>\n",
       "    <tr>\n",
       "      <th>4</th>\n",
       "      <td>27700</td>\n",
       "      <td>2018</td>\n",
       "      <td>0</td>\n",
       "      <td>0</td>\n",
       "      <td>0</td>\n",
       "      <td>0</td>\n",
       "      <td>1</td>\n",
       "      <td>0</td>\n",
       "      <td>0</td>\n",
       "      <td>0</td>\n",
       "      <td>...</td>\n",
       "      <td>0</td>\n",
       "      <td>0</td>\n",
       "      <td>0</td>\n",
       "      <td>0</td>\n",
       "      <td>0</td>\n",
       "      <td>0</td>\n",
       "      <td>0</td>\n",
       "      <td>0</td>\n",
       "      <td>0</td>\n",
       "      <td>0</td>\n",
       "    </tr>\n",
       "    <tr>\n",
       "      <th>...</th>\n",
       "      <td>...</td>\n",
       "      <td>...</td>\n",
       "      <td>...</td>\n",
       "      <td>...</td>\n",
       "      <td>...</td>\n",
       "      <td>...</td>\n",
       "      <td>...</td>\n",
       "      <td>...</td>\n",
       "      <td>...</td>\n",
       "      <td>...</td>\n",
       "      <td>...</td>\n",
       "      <td>...</td>\n",
       "      <td>...</td>\n",
       "      <td>...</td>\n",
       "      <td>...</td>\n",
       "      <td>...</td>\n",
       "      <td>...</td>\n",
       "      <td>...</td>\n",
       "      <td>...</td>\n",
       "      <td>...</td>\n",
       "      <td>...</td>\n",
       "    </tr>\n",
       "    <tr>\n",
       "      <th>2494</th>\n",
       "      <td>7800</td>\n",
       "      <td>2019</td>\n",
       "      <td>0</td>\n",
       "      <td>0</td>\n",
       "      <td>0</td>\n",
       "      <td>0</td>\n",
       "      <td>0</td>\n",
       "      <td>0</td>\n",
       "      <td>0</td>\n",
       "      <td>0</td>\n",
       "      <td>...</td>\n",
       "      <td>0</td>\n",
       "      <td>0</td>\n",
       "      <td>0</td>\n",
       "      <td>0</td>\n",
       "      <td>0</td>\n",
       "      <td>0</td>\n",
       "      <td>0</td>\n",
       "      <td>0</td>\n",
       "      <td>0</td>\n",
       "      <td>0</td>\n",
       "    </tr>\n",
       "    <tr>\n",
       "      <th>2495</th>\n",
       "      <td>9200</td>\n",
       "      <td>2018</td>\n",
       "      <td>0</td>\n",
       "      <td>0</td>\n",
       "      <td>0</td>\n",
       "      <td>0</td>\n",
       "      <td>0</td>\n",
       "      <td>0</td>\n",
       "      <td>0</td>\n",
       "      <td>0</td>\n",
       "      <td>...</td>\n",
       "      <td>1</td>\n",
       "      <td>0</td>\n",
       "      <td>0</td>\n",
       "      <td>0</td>\n",
       "      <td>0</td>\n",
       "      <td>0</td>\n",
       "      <td>0</td>\n",
       "      <td>0</td>\n",
       "      <td>0</td>\n",
       "      <td>0</td>\n",
       "    </tr>\n",
       "    <tr>\n",
       "      <th>2496</th>\n",
       "      <td>9200</td>\n",
       "      <td>2018</td>\n",
       "      <td>0</td>\n",
       "      <td>0</td>\n",
       "      <td>0</td>\n",
       "      <td>0</td>\n",
       "      <td>0</td>\n",
       "      <td>0</td>\n",
       "      <td>0</td>\n",
       "      <td>0</td>\n",
       "      <td>...</td>\n",
       "      <td>1</td>\n",
       "      <td>0</td>\n",
       "      <td>0</td>\n",
       "      <td>0</td>\n",
       "      <td>0</td>\n",
       "      <td>0</td>\n",
       "      <td>0</td>\n",
       "      <td>0</td>\n",
       "      <td>0</td>\n",
       "      <td>0</td>\n",
       "    </tr>\n",
       "    <tr>\n",
       "      <th>2497</th>\n",
       "      <td>9200</td>\n",
       "      <td>2018</td>\n",
       "      <td>0</td>\n",
       "      <td>0</td>\n",
       "      <td>0</td>\n",
       "      <td>0</td>\n",
       "      <td>0</td>\n",
       "      <td>0</td>\n",
       "      <td>0</td>\n",
       "      <td>0</td>\n",
       "      <td>...</td>\n",
       "      <td>0</td>\n",
       "      <td>0</td>\n",
       "      <td>0</td>\n",
       "      <td>0</td>\n",
       "      <td>0</td>\n",
       "      <td>0</td>\n",
       "      <td>0</td>\n",
       "      <td>0</td>\n",
       "      <td>0</td>\n",
       "      <td>0</td>\n",
       "    </tr>\n",
       "    <tr>\n",
       "      <th>2498</th>\n",
       "      <td>9200</td>\n",
       "      <td>2018</td>\n",
       "      <td>0</td>\n",
       "      <td>0</td>\n",
       "      <td>0</td>\n",
       "      <td>0</td>\n",
       "      <td>0</td>\n",
       "      <td>0</td>\n",
       "      <td>0</td>\n",
       "      <td>0</td>\n",
       "      <td>...</td>\n",
       "      <td>1</td>\n",
       "      <td>0</td>\n",
       "      <td>0</td>\n",
       "      <td>0</td>\n",
       "      <td>0</td>\n",
       "      <td>0</td>\n",
       "      <td>0</td>\n",
       "      <td>0</td>\n",
       "      <td>0</td>\n",
       "      <td>0</td>\n",
       "    </tr>\n",
       "  </tbody>\n",
       "</table>\n",
       "<p>2499 rows × 247 columns</p>\n",
       "</div>"
      ],
      "text/plain": [
       "      price  year  audi  bmw  buick  cadillac  chevrolet  chrysler  dodge  \\\n",
       "0      6300  2008     0    0      0         0          0         0      0   \n",
       "1      2899  2011     0    0      0         0          0         0      0   \n",
       "2      5350  2018     0    0      0         0          0         0      1   \n",
       "3     25000  2014     0    0      0         0          0         0      0   \n",
       "4     27700  2018     0    0      0         0          1         0      0   \n",
       "...     ...   ...   ...  ...    ...       ...        ...       ...    ...   \n",
       "2494   7800  2019     0    0      0         0          0         0      0   \n",
       "2495   9200  2018     0    0      0         0          0         0      0   \n",
       "2496   9200  2018     0    0      0         0          0         0      0   \n",
       "2497   9200  2018     0    0      0         0          0         0      0   \n",
       "2498   9200  2018     0    0      0         0          0         0      0   \n",
       "\n",
       "      ford  ...  silver  super black  tan  toreador red  \\\n",
       "0        0  ...       0            0    0             0   \n",
       "1        1  ...       1            0    0             0   \n",
       "2        0  ...       1            0    0             0   \n",
       "3        1  ...       0            0    0             0   \n",
       "4        0  ...       0            0    0             0   \n",
       "...    ...  ...     ...          ...  ...           ...   \n",
       "2494     0  ...       0            0    0             0   \n",
       "2495     0  ...       1            0    0             0   \n",
       "2496     0  ...       1            0    0             0   \n",
       "2497     0  ...       0            0    0             0   \n",
       "2498     0  ...       1            0    0             0   \n",
       "\n",
       "      triple yellow tri-coat  turquoise  tuxedo black metallic  white  \\\n",
       "0                          0          0                      0      0   \n",
       "1                          0          0                      0      0   \n",
       "2                          0          0                      0      0   \n",
       "3                          0          0                      0      0   \n",
       "4                          0          0                      0      0   \n",
       "...                      ...        ...                    ...    ...   \n",
       "2494                       0          0                      0      0   \n",
       "2495                       0          0                      0      0   \n",
       "2496                       0          0                      0      0   \n",
       "2497                       0          0                      0      0   \n",
       "2498                       0          0                      0      0   \n",
       "\n",
       "      white platinum tri-coat metallic  yellow  \n",
       "0                                    0       0  \n",
       "1                                    0       0  \n",
       "2                                    0       0  \n",
       "3                                    0       0  \n",
       "4                                    0       0  \n",
       "...                                ...     ...  \n",
       "2494                                 0       0  \n",
       "2495                                 0       0  \n",
       "2496                                 0       0  \n",
       "2497                                 0       0  \n",
       "2498                                 0       0  \n",
       "\n",
       "[2499 rows x 247 columns]"
      ]
     },
     "execution_count": 55,
     "metadata": {},
     "output_type": "execute_result"
    }
   ],
   "source": [
    "cars_modelling_data"
   ]
  },
  {
   "cell_type": "markdown",
   "metadata": {},
   "source": [
    "Defining X and y.\n",
    "X will be all the other columns except the price column, therefore using the drop() method will return a new dataset without the feature.\n",
    "\n",
    "<b>Notice that inplace parameter is not set, therefore it won't affect the original data</b>\n",
    "\n",
    "y will be the target, in this case the price column\n"
   ]
  },
  {
   "cell_type": "code",
   "execution_count": 56,
   "metadata": {},
   "outputs": [
    {
     "name": "stdout",
     "output_type": "stream",
     "text": [
      "(2499, 246) (2499,)\n"
     ]
    }
   ],
   "source": [
    "\n",
    "X = cars_modelling_data.drop(['price'], axis=1)\n",
    "\n",
    "y = cars_modelling_data['price']\n",
    "\n",
    "print(X.shape, y.shape)"
   ]
  },
  {
   "cell_type": "markdown",
   "metadata": {},
   "source": [
    "K-Fold cross validation to validate the model"
   ]
  },
  {
   "cell_type": "code",
   "execution_count": 57,
   "metadata": {},
   "outputs": [],
   "source": [
    "from sklearn.model_selection import KFold\n",
    "\n",
    "kfold = KFold(n_splits=2, random_state=None, shuffle=False)\n",
    "for train_index, test_index in kfold.split(X):\n",
    "    X_train, X_test = X.iloc[train_index], X.iloc[test_index]\n",
    "    y_train, y_test = y.iloc[train_index], y.iloc[test_index]"
   ]
  },
  {
   "cell_type": "markdown",
   "metadata": {},
   "source": [
    "Using LinearRegression() model with GridSearch to find the best parameters to use.\n"
   ]
  },
  {
   "cell_type": "code",
   "execution_count": 58,
   "metadata": {},
   "outputs": [
    {
     "name": "stdout",
     "output_type": "stream",
     "text": [
      "RMSE 10874.405324287374\n",
      "MAE 89.56284926579478\n"
     ]
    }
   ],
   "source": [
    "from sklearn.linear_model import LinearRegression\n",
    "from sklearn.model_selection import GridSearchCV\n",
    "from sklearn import metrics\n",
    "\n",
    "#initialise params to prove\n",
    "params = {'fit_intercept':[True, False], 'normalize':[True, False], 'copy_X': [True, False], 'n_jobs': [1, 2, 3, 4, 5, 10, 15]}\n",
    "\n",
    "linear_reg = LinearRegression(fit_intercept=False, normalize=True, copy_X=True, n_jobs=1)\n",
    "clf = GridSearchCV(linear_reg, param_grid=params)\n",
    "clf.fit(X, y)\n",
    "#print(clf.score(X, y))\n",
    "#print(clf.predict(X))\n",
    "#print(clf.best_params_)\n",
    "#print(clf.best_score_)\n",
    "\n",
    "linear_reg.fit(X_train, y_train)\n",
    "y_pred = linear_reg.predict(X_test)\n",
    "#print(linear_reg.score(X, y))\n",
    "coef = linear_reg.coef_\n",
    "\n",
    "#Check how well it is performing\n",
    "print('RMSE', np.sqrt(metrics.mean_squared_error(y_test, y_pred)))\n",
    "print('MAE', np.sqrt(metrics.mean_absolute_error(y_test, y_pred)))\n"
   ]
  },
  {
   "cell_type": "markdown",
   "metadata": {},
   "source": [
    "plotting correlation between target price and predicted price"
   ]
  },
  {
   "cell_type": "code",
   "execution_count": 59,
   "metadata": {},
   "outputs": [
    {
     "data": {
      "text/plain": [
       "<matplotlib.collections.PathCollection at 0x7fd482da8f70>"
      ]
     },
     "execution_count": 59,
     "metadata": {},
     "output_type": "execute_result"
    },
    {
     "data": {
      "image/png": "[encoded data removed]",
      "text/plain": [
       "<Figure size 720x720 with 1 Axes>"
      ]
     },
     "metadata": {},
     "output_type": "display_data"
    }
   ],
   "source": [
    "\n",
    "plt.figure(figsize=(10,10))\n",
    "plt.scatter(y_test,y_pred,marker='.',c='red',edgecolors='black',s=100,linewidth=1)\n"
   ]
  },
  {
   "cell_type": "markdown",
   "metadata": {},
   "source": [
    "AS we can see from the previous graph, there is some correlation between the predicted price and the target price. However we can observe that it is not a perfect correlation.\n",
    "\n",
    "We are going to plot the error between target price and predicted price using a histogram to see the distribution of the errors.\n",
    "\n",
    "<b>the error E = (y_test - y_pred) </b>"
   ]
  },
  {
   "cell_type": "code",
   "execution_count": 60,
   "metadata": {},
   "outputs": [
    {
     "data": {
      "text/plain": [
       "(array([  1.,   0.,   3.,  11.,  24.,  41.,  65.,  93.,  94., 160., 167.,\n",
       "        154., 129.,  84.,  53.,  26.,  46.,  39.,  24.,  11.,   6.,   2.,\n",
       "          4.,   1.,   2.,   3.,   3.,   1.,   1.,   1.]),\n",
       " array([-24951.91457318, -22323.90752236, -19695.90047155, -17067.89342073,\n",
       "        -14439.88636992, -11811.8793191 ,  -9183.87226828,  -6555.86521747,\n",
       "         -3927.85816665,  -1299.85111584,   1328.15593498,   3956.16298579,\n",
       "          6584.17003661,   9212.17708742,  11840.18413824,  14468.19118905,\n",
       "         17096.19823987,  19724.20529068,  22352.2123415 ,  24980.21939231,\n",
       "         27608.22644313,  30236.23349394,  32864.24054476,  35492.24759557,\n",
       "         38120.25464639,  40748.2616972 ,  43376.26874802,  46004.27579883,\n",
       "         48632.28284965,  51260.28990047,  53888.29695128]),\n",
       " <a list of 30 Patch objects>)"
      ]
     },
     "execution_count": 60,
     "metadata": {},
     "output_type": "execute_result"
    },
    {
     "data": {
      "image/png": "[encoded data removed]",
      "text/plain": [
       "<Figure size 720x720 with 1 Axes>"
      ]
     },
     "metadata": {},
     "output_type": "display_data"
    }
   ],
   "source": [
    "plt.figure(figsize=(10, 10))\n",
    "plt.hist((y_test - y_pred), bins=30, color='r')"
   ]
  },
  {
   "cell_type": "markdown",
   "metadata": {},
   "source": [
    "## Logistic Regression to predict car insurance status\n"
   ]
  },
  {
   "cell_type": "code",
   "execution_count": 61,
   "metadata": {},
   "outputs": [],
   "source": [
    "#kfold = KFold(n_splits=2)\n",
    "X = cars_modelling_data.drop(['salvage insurance'], axis=1)\n",
    "y = cars_modelling_data['salvage insurance']\n",
    "#from sklearn.model_selection import train_test_split\n",
    "#X_train, X_test, y_train, y_test = train_test_split(X, y, test_size=0.4, random_state=101)\n",
    "kfold = KFold(n_splits=2, random_state=None, shuffle=False)\n",
    "for train_index, test_index in kfold.split(X):\n",
    "    X_train, X_test = X.iloc[train_index], X.iloc[test_index]\n",
    "    y_train, y_test = y.iloc[train_index], y.iloc[test_index]"
   ]
  },
  {
   "cell_type": "code",
   "execution_count": 62,
   "metadata": {},
   "outputs": [
    {
     "name": "stdout",
     "output_type": "stream",
     "text": [
      "{'copy_X': True, 'fit_intercept': False, 'n_jobs': 1, 'normalize': True}\n",
      "-1669.1619518203813\n"
     ]
    },
    {
     "data": {
      "text/plain": [
       "LogisticRegression(penalty='l1', solver='liblinear')"
      ]
     },
     "execution_count": 62,
     "metadata": {},
     "output_type": "execute_result"
    }
   ],
   "source": [
    "from sklearn.linear_model import LogisticRegression\n",
    "\n",
    "from sklearn.metrics import confusion_matrix\n",
    "logic_reg = LogisticRegression(solver='liblinear', penalty='l1')\n",
    "\n",
    "#grid_values = {'solver': ['liblinear'], 'max_iter': [100], 'penalty': ['l1', 'l2'],'C':np.logspace(-4, 4, 20)}\n",
    "#clf = GridSearchCV(logic_reg, param_grid = grid_values,scoring = 'recall')\n",
    "#clf.fit(X_train, y_train)\n",
    "\n",
    "print(clf.best_params_)\n",
    "print(clf.best_score_)\n",
    "\n",
    "#best_clf = clf.fit(X_train, y_train)\n",
    "logic_reg.fit(X_train, y_train)\n",
    "#print(logic_reg.)"
   ]
  },
  {
   "cell_type": "markdown",
   "metadata": {},
   "source": [
    "We are going to check how well the algorithm performs by using a confusion matrix"
   ]
  },
  {
   "cell_type": "code",
   "execution_count": 63,
   "metadata": {},
   "outputs": [
    {
     "name": "stdout",
     "output_type": "stream",
     "text": [
      "      salvage insurance\n",
      "0                     0\n",
      "1                     0\n",
      "2                     0\n",
      "3                     0\n",
      "4                     0\n",
      "...                 ...\n",
      "2494                  0\n",
      "2495                  0\n",
      "2496                  0\n",
      "2497                  0\n",
      "2498                  0\n",
      "\n",
      "[2499 rows x 1 columns]\n",
      "[[1184    4]\n",
      " [  40   21]]\n"
     ]
    },
    {
     "data": {
      "image/png": "[encoded data removed]",
      "text/plain": [
       "<Figure size 432x288 with 2 Axes>"
      ]
     },
     "metadata": {},
     "output_type": "display_data"
    }
   ],
   "source": [
    "from sklearn.metrics import classification_report\n",
    "from sklearn.metrics import plot_confusion_matrix\n",
    "y_pred = clf.predict(X_test)\n",
    "\n",
    "disp = plot_confusion_matrix(best_clf, X_test, y_test, cmap=plt.cm.Blues)\n",
    "disp.ax_.set_title('Confusion Matrix')\n",
    "\n",
    "print(title)\n",
    "print(disp.confusion_matrix)"
   ]
  },
  {
   "cell_type": "markdown",
   "metadata": {},
   "source": [
    "#### We get the following results calcualting the accuracy, precision, recall and F1"
   ]
  },
  {
   "cell_type": "code",
   "execution_count": 71,
   "metadata": {},
   "outputs": [
    {
     "name": "stdout",
     "output_type": "stream",
     "text": [
      "accuracy 0.9647718174539631\n",
      "precision 0.9966329966329966\n",
      "recall 0.9966329966329966\n",
      "F1 0.9966329966329966\n"
     ]
    }
   ],
   "source": [
    "accuracy = (disp.confusion_matrix[0][0] + disp.confusion_matrix[1][1]) / (disp.confusion_matrix[0][0] + disp.confusion_matrix[0][1] + disp.confusion_matrix[1][0] + disp.confusion_matrix[1][1])\n",
    "precision = (disp.confusion_matrix[0][0]) / (disp.confusion_matrix[0][0] + disp.confusion_matrix[0][1])\n",
    "recall = (disp.confusion_matrix[0][0]) / (disp.confusion_matrix[0][0] + disp.confusion_matrix[0][1])\n",
    "F1 = 2 * precision * recall / (precision + recall)\n",
    "print('accuracy', accuracy)\n",
    "print('precision', precision)\n",
    "print('recall', recall)\n",
    "print('F1', F1)"
   ]
  },
  {
   "cell_type": "markdown",
   "metadata": {},
   "source": [
    "## Conclusion\n",
    "\n",
    "We found that linear Regression model was not very accurate to predict the prices, other models could be used to predict it better. \n",
    "\n",
    "Logistic Regression was found to perform very well with predicting the classes and car satus."
   ]
  },
  {
   "cell_type": "code",
   "execution_count": null,
   "metadata": {},
   "outputs": [],
   "source": []
  }
 ],
 "metadata": {
  "kernelspec": {
   "display_name": "Python 3",
   "language": "python",
   "name": "python3"
  },
  "language_info": {
   "codemirror_mode": {
    "name": "ipython",
    "version": 3
   },
   "file_extension": ".py",
   "mimetype": "text/x-python",
   "name": "python",
   "nbconvert_exporter": "python",
   "pygments_lexer": "ipython3",
   "version": "3.8.3"
  }
 },
 "nbformat": 4,
 "nbformat_minor": 4
}
